{
 "cells": [
  {
   "cell_type": "code",
   "execution_count": 5,
   "metadata": {},
   "outputs": [],
   "source": [
    "import pickle\n",
    "import gzip"
   ]
  },
  {
   "cell_type": "code",
   "execution_count": 14,
   "metadata": {},
   "outputs": [],
   "source": [
    "with gzip.open(\"gfn_fwd.pkl.gz\", \"rb\") as f:\n",
    "    data_gfn = pickle.load(f)\n",
    "\n",
    "with gzip.open(\"gfn_fwd2.pkl.gz\", \"rb\") as f:\n",
    "    data_gfn2 = pickle.load(f)"
   ]
  },
  {
   "cell_type": "code",
   "execution_count": 7,
   "metadata": {},
   "outputs": [],
   "source": [
    "with gzip.open(\"prior_x.pkl.gz\", \"rb\") as f:\n",
    "    data_x = pickle.load(f)"
   ]
  },
  {
   "cell_type": "code",
   "execution_count": 8,
   "metadata": {},
   "outputs": [],
   "source": [
    "with gzip.open(\"prior_xy.pkl.gz\", \"rb\") as f:\n",
    "    data_xy = pickle.load(f)"
   ]
  },
  {
   "cell_type": "code",
   "execution_count": 13,
   "metadata": {},
   "outputs": [
    {
     "data": {
      "text/plain": [
       "'He stopped going to burger places and started a vegetarian diet.'"
      ]
     },
     "execution_count": 13,
     "metadata": {},
     "output_type": "execute_result"
    }
   ],
   "source": [
    "data_gfn[0][2]"
   ]
  },
  {
   "cell_type": "code",
   "execution_count": 15,
   "metadata": {},
   "outputs": [
    {
     "data": {
      "text/plain": [
       "['He noticed his stopped his his weight. he felt the eater',\n",
       " \"He wondered how long time's he had been on so much\",\n",
       " 'He completely about his habits to try and figure out the reason',\n",
       " \"He looked a. he certain he'd been eating too much\",\n",
       " 'He examined his daily habits to try and figure out the reason',\n",
       " 'David started he saw this coming of Zellman David noticed',\n",
       " 'He started went on his weight to. He continued his routine',\n",
       " 'He examined his habits to try and figure out the reason.',\n",
       " 'He He examined his habits to try and figure out the reason',\n",
       " 'He stopped shopping his doctor nurse to tell him what he felt',\n",
       " \"He began he stopped ate amount' eating out of the freezer\",\n",
       " \"He ate a lot of weight recently. He realized he'd\",\n",
       " 'He examined a for- In Luckily, he found he eat',\n",
       " 'He helped him and his habits to find out the reason.',\n",
       " 'He noticed his habits to try to figure out the reason.',\n",
       " 'He examined his food to try to for found noticed weight loss',\n",
       " 'He examined his habits to try and figure out the reason.',\n",
       " 'He asked he thought try to cut down on the amount amount',\n",
       " 'He realized he started to eat too lots of the spicy and',\n",
       " 'He realized he had been eating too much fast food recently.',\n",
       " 'He reviewed his habits to try to figure out how to change',\n",
       " 'He noticeded eating weight of of now. David realized his',\n",
       " '\\n He realized he was overweight now He regularly wrote himself',\n",
       " 'He had his hurried of fast food and figure out the reason',\n",
       " 'He examined his problems to try and figure the the cause.',\n",
       " 'He examined his habits to try and figure out the reason.',\n",
       " 'David realized he had been consuming eating too much fast food lately',\n",
       " 'He examined his habits to try and figure out the reason.',\n",
       " 'This suddenly eating very well.David called what happened thought he',\n",
       " 'He evaluated his examined of days to find out why he ran',\n",
       " 'He on a lot of weight. He figured out the his',\n",
       " 'He realized that would fat eating more on him if than later',\n",
       " 'He studied his habits to try and figure out the reason.',\n",
       " 'He began examined his habits to try and figure out the reason',\n",
       " \"He realized he'd been eating too much fast eating. He\",\n",
       " 'He examined his habits to try and figure out the reason.',\n",
       " 'He began examined his habits to try and figure out the reason',\n",
       " 'He put weight on his and tried to the out. reason',\n",
       " 'He analyzed his habits to try to figure figure out the reason',\n",
       " 'He washed his habits with his eyes leaking out of the sockets',\n",
       " 'He again examined his habits to try and figure out the reason',\n",
       " 'He started making eat bad intake he calming down a a bit',\n",
       " 'He felt dumb, but he had a lot of weight recently',\n",
       " 'He he examined his habits to try and figure out the reason',\n",
       " 'He examined his habit to try and figure out the wrong.',\n",
       " 'He found his run.\\n\\nHe examined his habits to',\n",
       " 'He took a his his try to figure out his reasons.',\n",
       " \"He realized he'd been eating too much fast food ago.\",\n",
       " 'He realized his friend of weight down and started and had a',\n",
       " 'He started examining his habits to try and figure out the why',\n",
       " 'He looked his him to tried to figure out the reason.',\n",
       " 'He examined to try and figure out the reason. out,',\n",
       " 'He examined his habits to try and figure out the logical reason',\n",
       " 'He examined him habits and tried to figure out the reason.',\n",
       " 'He inspected his habits to try to play each other in a',\n",
       " \"He finally thought, thoughtfully so he'd find out.\",\n",
       " 'He examined his habits to try try and figured out the reason',\n",
       " 'He realized he he had put on a lot of weight found',\n",
       " 'He later shot himself to try and figure out the reason.',\n",
       " \"He recognized he'd been eating too much much weight lately.\",\n",
       " 'He realized he had lost got to He had all his\"',\n",
       " 'He examined his habits to try to figure out the reason.',\n",
       " \"He'd been heavy recently. He thought to drink some weight\",\n",
       " 'He looked examined his habits to try and find out reason.',\n",
       " 'He looked at his habits to try to figure out the reason',\n",
       " 'He g weight weight lost weight.. David saw weight loss',\n",
       " \"He realized he'd failed to try and figure the reason.\",\n",
       " 'He evaluated a couple of calories and saw what he could sustain',\n",
       " 'He examined his habits diet and he realized he had been eating',\n",
       " 'He examined his habits to try and figure out the reason.',\n",
       " 'He examined his habits to try and figure out the reason.',\n",
       " 'He examined his habits to try and figure out the reason.',\n",
       " 'He felt true guilt over that more recently. He realized that',\n",
       " 'He looked his his habits to try and figure out the reason',\n",
       " 'So he studied his habits to try and figure out the reason',\n",
       " 'He raised examined his habits to try and figure out the reason',\n",
       " \"David noticed he'd been eating on a lot of pounds recently\",\n",
       " 'He held some persistent beliefs about his too. After the feelings',\n",
       " 'He realized he had been ( a lot weight recently. He',\n",
       " 'This had a real weight problem. But the problem was out',\n",
       " 'He realized he been eating too much fastfood lately. He',\n",
       " 'Try to figure out the reason. He realized he had been',\n",
       " 'He considered his health much and found out the for. decided',\n",
       " 'He noticed he had put on a lot of weight recently.',\n",
       " 'He cut his diet his weight. He So\\n buzz loss',\n",
       " \"He asked his problems, but he guess he'd been eating\",\n",
       " \"He realized he had'd been eat too much fastfood lately\",\n",
       " 'He examined his unhealthyifications to try to figure out the reason',\n",
       " 'He realized he thought about it too often. He thought about',\n",
       " 'He examined his habits to try and figure out the cause.',\n",
       " \"He noticed he'd been eating a lot fast food lately.\",\n",
       " 'He woke up his small recently. He started his weight his',\n",
       " 'He He examined his habits to try and figure out the reason',\n",
       " 'He checked up on a lot of weight recently. David looked',\n",
       " 'He examined his habits to try and figure out how much weight',\n",
       " 'He measured too many weight, and he realized he was sick',\n",
       " 'David noticed he had put on a lot of weight recently.',\n",
       " 'He realized he had on a lot of weight.. He',\n",
       " 'He decided lots into dieting in either, David noticed he',\n",
       " 'He took high school blood was trying to get out the why']"
      ]
     },
     "execution_count": 15,
     "metadata": {},
     "output_type": "execute_result"
    }
   ],
   "source": [
    "data_gfn2[0][3]"
   ]
  },
  {
   "cell_type": "code",
   "execution_count": 11,
   "metadata": {},
   "outputs": [
    {
     "data": {
      "text/plain": [
       "[\"He tried figure out the reason. He realized he'd been eating too much\",\n",
       " 'He had a lot of weight recently He checked out his habits to try and',\n",
       " 'He asked him if he knew if he was eating fast food. He told',\n",
       " 'Put on a lot of weight recently. He examined his habits to try and',\n",
       " 'He looked his his habits and try to figure out how much he had been',\n",
       " 'He stopped reported hard. He had eating very fast food distracted him. He',\n",
       " \"He'd been eating too much fast food recently. He relieved he'd been\",\n",
       " \"He asked his his habits to try it out the reason. David David'd\",\n",
       " 'He examined his habits to try and figure out the reason. He realized he',\n",
       " 'He got a huge bad. That looked at his habits to try and figure',\n",
       " 'He he examined his habits to try and figure out why.\" David David program',\n",
       " 'He started to examined his habits activity and find out his reason. He him',\n",
       " 'He looked his habits to try and figure out the cause. He realized eating',\n",
       " 'He realized he had been put on a lot of weight. He tried to',\n",
       " 'He felt a craving that was right in between the craving and the craving that',\n",
       " \"He realized he realized he'd put on a lot of weight recently. He\",\n",
       " 'He studied his habits to try and figure out the reason problem. He determined',\n",
       " \"He realized he hadn't eating too much in the issue recently. He realized\",\n",
       " 'He wondered if he was trying to hold his body longer. He realized he',\n",
       " 'He examined his habits to try and figure out the reason. He noticed he',\n",
       " 'He was putting on a lot of weight recently. He examined his habits to',\n",
       " 'He noticed he b been eating a many fast weight lately. He realized he',\n",
       " 'He found himself to took some weird drugs out strange. He found himself weight',\n",
       " 'He examined his habits to try and figure out the reason. He discovered he',\n",
       " 'He assessed this episode and struggled to present the findings in public. He again',\n",
       " 'He examined his habits to test and figure out the reason. And also decided',\n",
       " 'He examined his habits to try to figure out the food. David realized happened',\n",
       " 'He examined his habits to try and figure out the reason. He realized obese',\n",
       " \"He examined his practices to try and figure out out why He realized he'd\",\n",
       " \"He realized he'd been eating too too much of food. to figure out\",\n",
       " 'He ate a about cracked, but out out the reason. He realized himself',\n",
       " 'Too much fast food binge. He examined his habits to try and figure out',\n",
       " 'He examined his habits to try to figure out the reason. He noticed him',\n",
       " '\" remembered browsing for the app, he said. \"I noticed I multiple',\n",
       " 'Had on a lot of weight recently. He examined his habits to try and',\n",
       " 'He decided to take a closer look to find out.\"He noticed.\"\"He',\n",
       " 'He ate a lot of eating.\\n\\nOn the topic, realizing he',\n",
       " 'He weighed his habits to try enough get out of there. He finally figure',\n",
       " 'Could thought eating more too many calories to put on weight Diet or overweight David',\n",
       " \"He realized he'd ate too much fast food recently. He realized he'd\",\n",
       " 'He examined his habits to try and figure out the reason. He noticed he',\n",
       " 'He examined his habits to try and figure out the reason. David realized asleep',\n",
       " 'He started researching weight loss, he decided to start his own A..',\n",
       " 'He looked his habits try to the figure out. He tried a to figure',\n",
       " \"He realized he'd been struggling to lose weight against whom he cared. He\",\n",
       " 'He lost a milk every day to cut out the inevitable early. He started',\n",
       " 'He examined his tips and tried to get out out weight eating. diet he',\n",
       " \"He realized he'd been eating too much fast food too. He realized he\",\n",
       " 'He realized he had been trying to eat too slow food lately. He realized',\n",
       " 'He examined his habits to try and figure out the reason. to David realized',\n",
       " 'He examined his habits to try and figure out the reason. realized noticed he',\n",
       " 'He thought his eating recently to learn more about his reason. He realized his',\n",
       " \"He noticed he'd eating too much fast food too. He tried a lot\",\n",
       " 'He examined his habits to try and figure out the reason. He learned his',\n",
       " 'He learned he was new for of foods that he noticed had put on weight',\n",
       " 'He examined his his habits to determine what made the difference. He decided felt',\n",
       " 'He realized his eating high his and he examined his habits to try and figure',\n",
       " 'He tried to stop his habits to get the best of them. He tried',\n",
       " 'He took some weight and pulled his hands over the mouth causing him. he',\n",
       " 'He realized that he had gotten on a lot weight recently. He corrected his',\n",
       " 'He reviewed his habits to try and figure out the reason. He realized he',\n",
       " \"He realized he hard he'd lost a number of pounds. He realized himself\",\n",
       " \"He knew exercise' had fat on food fast weight recently. He hehe\",\n",
       " 'He went at his habits to try and figure out the reason. He couldn',\n",
       " 'He adjusted his body regularly to try and figure out the reason. He realized',\n",
       " 'Hely examined his habits to try and figure out the reason. He realized',\n",
       " 'He examined his habits to try and figure out the reason. He realized he',\n",
       " \"He expanded his habits to told him. He But why didn't he figure\",\n",
       " 'He realized his ingrion in and out of his actions. He realized',\n",
       " \"He realized he'd been put on too much weight recently. He learned he\",\n",
       " 'He examined his habits to try and figure out the reason. He realized he',\n",
       " 'He started his habits to work tried figure examined the problem to figure figure out',\n",
       " 'He examined his habits, trying to figure out the reason. He realized himself',\n",
       " \"He realized he'd been eating too much fast food lately. He realized he\",\n",
       " 'He studied his visits to try and figure out the reason. He also noticed',\n",
       " 'He realized he had put on on some weight recently. He tried to treat',\n",
       " 'He examined his habits to try and figure out the why. David him him',\n",
       " 'He examined his routines to try to figure figured out the reason. David noticed',\n",
       " 'He ate too hard to eat, too much fast food troubling.David got',\n",
       " 'He noticed too much weight recently. He examined his habits to try and figure',\n",
       " 'He thought ashamed about himself to a own weight why. He was upset suddenly',\n",
       " 'He noticed he he had put on a lot of possible weight to figure out',\n",
       " 'He examined his habits to try and figure out the reason was David realized radically',\n",
       " 'It felt like he had lost eating weight. He realized he had been eating',\n",
       " 'He examined his habits to try and figure out the reason. He realized he',\n",
       " 'He then examined his habits to try and figure out the reason. David realized',\n",
       " 'He examined his habits to try and figure out the reason. He realized he',\n",
       " 'He examined his habits to trying to figure out the why. David realized him',\n",
       " \"He noted fat'd doing too much water.. He looked and figured out\",\n",
       " 'He covered countless lot eating rituals to get figuring out the reason. He figured',\n",
       " 'He looked researched his habits to try and figure out his cause He feared eating',\n",
       " 'He looked to a new restaurant. He found joy craving some new restaurant.',\n",
       " 'He examined his habits to try and figure out the reason. He realized he',\n",
       " 'He took some more time to try and find out the reason. He realized',\n",
       " 'He examined his habits to try to figure out the why David had stopped that',\n",
       " 'He decided down adjusted his two test to ensure because the food came slow and',\n",
       " 'He noticed too much fast food a lot. He wondered why eat so much',\n",
       " \"He realized he'd been eating too much fast food lately. He realized eating\",\n",
       " \"Dave realized he'd he had put on a out of weight recently. He\",\n",
       " 'He ate too much sugar and. He about no idea.\\n\\nDavid']"
      ]
     },
     "execution_count": 11,
     "metadata": {},
     "output_type": "execute_result"
    }
   ],
   "source": [
    "data_gfn[0][3]"
   ]
  },
  {
   "cell_type": "code",
   "execution_count": 12,
   "metadata": {},
   "outputs": [
    {
     "data": {
      "text/plain": [
       "[\"Something transpired with a group he'd been getting training with a younger dog.\",\n",
       " \"But contrary to doctors prescribed he didn't intentionally force himself to diet himself.\",\n",
       " 'He was a lot of food. He was telling \"stop anyway. \"',\n",
       " 'He also noticed he had been putting on too much fast food since 2004.',\n",
       " \"He'd thought a little less about eating. He stopped eating.\\n\\n\",\n",
       " 'He looked up to him and felt that something was tearing this man apart.',\n",
       " \"For once, toene'thed, he had always relied on junk food\",\n",
       " 'He began eating him all much more. David, he ate too often.',\n",
       " 'Both made a bad team.\\n\\nThey eat Steve but...\\n\\n',\n",
       " 'He decided to switch to and eat instead to keep his willpower down.Alex',\n",
       " 'He slightly confessed the failure had to get extra pounds several times.\\n\\n',\n",
       " '\\nHurtful on him and lately dietary fiber and processed meats.']"
      ]
     },
     "execution_count": 12,
     "metadata": {},
     "output_type": "execute_result"
    }
   ],
   "source": [
    "data_xy[0][3]"
   ]
  },
  {
   "cell_type": "code",
   "execution_count": null,
   "metadata": {},
   "outputs": [],
   "source": []
  }
 ],
 "metadata": {
  "kernelspec": {
   "display_name": "diff_lm_env",
   "language": "python",
   "name": "python3"
  },
  "language_info": {
   "codemirror_mode": {
    "name": "ipython",
    "version": 3
   },
   "file_extension": ".py",
   "mimetype": "text/x-python",
   "name": "python",
   "nbconvert_exporter": "python",
   "pygments_lexer": "ipython3",
   "version": "3.9.15"
  }
 },
 "nbformat": 4,
 "nbformat_minor": 2
}
